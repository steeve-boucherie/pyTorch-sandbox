{
 "cells": [
  {
   "cell_type": "code",
   "execution_count": 1,
   "metadata": {},
   "outputs": [],
   "source": [
    "import logging\n",
    "import sys\n",
    "\n",
    "from dotenv import load_dotenv\n",
    "\n",
    "import matplotlib.pyplot as plt\n",
    "\n",
    "import numpy as np\n",
    "\n",
    "import seaborn as sns\n",
    "\n",
    "\n",
    "# LOGGER\n",
    "logger = logging.getLogger()\n",
    "logging.basicConfig(\n",
    "    stream=sys.stdout,\n",
    "    level=logging.INFO,\n",
    "    format='%(asctime)s %(message)s',\n",
    "    datefmt='%Y-%m-%y %H:%M:%S',\n",
    ")\n",
    "\n",
    "\n",
    "# MODULE RELOAD\n",
    "%load_ext autoreload\n",
    "%autoreload 2\n",
    "\n",
    "\n",
    "# Load dotenv\n",
    "_ = load_dotenv()"
   ]
  },
  {
   "cell_type": "code",
   "execution_count": 2,
   "metadata": {},
   "outputs": [],
   "source": [
    "import torch"
   ]
  },
  {
   "cell_type": "markdown",
   "metadata": {},
   "source": [
    "# Make a simple Recurrent Neural Network (RNN)"
   ]
  },
  {
   "cell_type": "markdown",
   "metadata": {},
   "source": [
    "## This will fail"
   ]
  },
  {
   "cell_type": "code",
   "execution_count": 3,
   "metadata": {},
   "outputs": [
    {
     "name": "stdout",
     "output_type": "stream",
     "text": [
      "2025-09-25 16:36:31 Gradient computation failed with error: element 0 of tensors does not require grad and does not have a grad_fn\n"
     ]
    }
   ],
   "source": [
    "torch.manual_seed(1977)\n",
    "\n",
    "x = torch.randn(1, 10)  # Inputs\n",
    "prev_h = torch.randn(1, 20)  # Previous hidden state\n",
    "\n",
    "w_h = torch.randn(20, 20)  # Matrix of weights for hidden state\n",
    "w_x = torch.randn(20, 10)  # Matrix of weights for the input\n",
    "\n",
    "i2h = torch.mm(w_x, x.t())  # Input to hidden state multiplication\n",
    "h2h = torch.mm(w_h, prev_h.t())  # Hidden state to hidden state\n",
    "\n",
    "next_h = i2h + h2h  # Sum two states\n",
    "next_h = next_h.tanh()  # Activation \n",
    "\n",
    "loss = next_h.sum()  # Dummy loss\n",
    "\n",
    "try:\n",
    "    loss.backward()\n",
    "\n",
    "except Exception as e:\n",
    "    msg = f'Gradient computation failed with error: {e}'\n",
    "    logger.error(msg)\n",
    "\n",
    "else:\n",
    "    logger.info('Gradient computed successfully!')"
   ]
  },
  {
   "cell_type": "markdown",
   "metadata": {},
   "source": [
    "## This will work"
   ]
  },
  {
   "cell_type": "code",
   "execution_count": 4,
   "metadata": {},
   "outputs": [
    {
     "name": "stdout",
     "output_type": "stream",
     "text": [
      "2025-09-25 16:36:33 Gradient computed successfully!\n"
     ]
    }
   ],
   "source": [
    "torch.manual_seed(1977)\n",
    "\n",
    "x = torch.randn(1, 10, requires_grad=True)  # Inputs\n",
    "prev_h = torch.randn(1, 20, requires_grad=True)  # Previous hidden state\n",
    "\n",
    "w_h = torch.randn(20, 20, requires_grad=True)  # Matrix of weights for hidden state\n",
    "w_x = torch.randn(20, 10, requires_grad=True)  # Matrix of weights for the input\n",
    "\n",
    "i2h = torch.mm(w_x, x.t())  # Input to hidden state multiplication\n",
    "h2h = torch.mm(w_h, prev_h.t())  # Hidden state to hidden state\n",
    "\n",
    "next_h = i2h + h2h  # Sum two states\n",
    "next_h = next_h.tanh()  # Activation \n",
    "\n",
    "loss = next_h.sum()  # Dummy loss\n",
    "\n",
    "try:\n",
    "    loss.backward()\n",
    "\n",
    "except Exception as e:\n",
    "    msg = f'Gradient computation failed with error: {e}'\n",
    "    logger.error(msg)\n",
    "\n",
    "else:\n",
    "    logger.info('Gradient computed successfully!')"
   ]
  },
  {
   "cell_type": "code",
   "execution_count": null,
   "metadata": {},
   "outputs": [],
   "source": []
  }
 ],
 "metadata": {
  "kernelspec": {
   "display_name": ".venv",
   "language": "python",
   "name": "python3"
  },
  "language_info": {
   "codemirror_mode": {
    "name": "ipython",
    "version": 3
   },
   "file_extension": ".py",
   "mimetype": "text/x-python",
   "name": "python",
   "nbconvert_exporter": "python",
   "pygments_lexer": "ipython3",
   "version": "3.12.11"
  }
 },
 "nbformat": 4,
 "nbformat_minor": 2
}
