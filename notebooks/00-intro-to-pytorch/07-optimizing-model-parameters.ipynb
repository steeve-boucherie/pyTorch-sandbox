{
 "cells": [
  {
   "cell_type": "markdown",
   "metadata": {
    "vscode": {
     "languageId": "plaintext"
    }
   },
   "source": [
    "# Optimizing Model Parameters\n",
    "This notebook follows the step from the [Optimizing Model Parameters](https://docs.pytorch.org/tutorials/beginner/basics/optimization_tutorial.html) of the pyTorch offical documentation."
   ]
  },
  {
   "cell_type": "markdown",
   "metadata": {},
   "source": [
    "## Prerequisite Code\n",
    "We load the code from the previous sections on [Datasets & DataLoaders](https://docs.pytorch.org/tutorials/beginner/basics/data_tutorial.html) and [Build Model](https://docs.pytorch.org/tutorials/beginner/basics/buildmodel_tutorial.html)."
   ]
  },
  {
   "cell_type": "code",
   "execution_count": 13,
   "metadata": {},
   "outputs": [],
   "source": [
    "import torch\n",
    "from torch import nn\n",
    "from torch.utils.data import DataLoader\n",
    "from torchvision import datasets\n",
    "from torchvision.transforms import ToTensor\n",
    "\n",
    "training_data = datasets.FashionMNIST(\n",
    "    root=\"data\",\n",
    "    train=True,\n",
    "    download=True,\n",
    "    transform=ToTensor()\n",
    ")\n",
    "\n",
    "test_data = datasets.FashionMNIST(\n",
    "    root=\"data\",\n",
    "    train=False,\n",
    "    download=True,\n",
    "    transform=ToTensor()\n",
    ")\n",
    "\n",
    "train_dataloader = DataLoader(training_data, batch_size=64)\n",
    "test_dataloader = DataLoader(test_data, batch_size=64)\n",
    "\n",
    "class NeuralNetwork(nn.Module):\n",
    "    def __init__(self):\n",
    "        super().__init__()\n",
    "        self.flatten = nn.Flatten()\n",
    "        self.linear_relu_stack = nn.Sequential(\n",
    "            nn.Linear(28*28, 512),\n",
    "            nn.ReLU(),\n",
    "            nn.Linear(512, 512),\n",
    "            nn.ReLU(),\n",
    "            nn.Linear(512, 10),\n",
    "        )\n",
    "\n",
    "    def forward(self, x):\n",
    "        x = self.flatten(x)\n",
    "        logits = self.linear_relu_stack(x)\n",
    "        return logits\n",
    "\n",
    "model = NeuralNetwork()"
   ]
  },
  {
   "cell_type": "markdown",
   "metadata": {},
   "source": [
    "## Hyperparameters\n",
    "Hyperparameters are adjustable parameters that let you control the model optimization process. Different hyperparameter values can impact model training and convergence rates ([read more](https://pytorch.org/tutorials/beginner/hyperparameter_tuning_tutorial.html) about hyperparameter tuning)\n",
    "\n",
    "We define the following hyperparameters for training:\n",
    "\n",
    "- Number of Epochs - the number of times to iterate over the dataset\n",
    "- Batch Size - the number of data samples propagated through the network before the parameters are updated\n",
    "- Learning Rate - how much to update models parameters at each batch/epoch. Smaller values yield slow learning speed, while large values may result in unpredictable behavior during training.\n",
    "\n"
   ]
  },
  {
   "cell_type": "code",
   "execution_count": 14,
   "metadata": {},
   "outputs": [],
   "source": [
    "learning_rate = 1e-3\n",
    "batch_size = 64\n",
    "epochs = 5"
   ]
  },
  {
   "cell_type": "markdown",
   "metadata": {},
   "source": [
    "## Optimization Loop\n",
    "\n",
    "Once we set our hyperparameters, we can then train and optimize our model with an optimization loop. Each iteration of the optimization loop is called an epoch.\n",
    "\n",
    "Each epoch consists of two main parts:\n",
    "- The Train Loop - iterate over the training dataset and try to converge to optimal parameters.\n",
    "- The Validation/Test Loop - iterate over the test dataset to check if model performance is improving.\n",
    "\n",
    "Let’s briefly familiarize ourselves with some of the concepts used in the training loop. Jump ahead to see the Full Implementation of the optimization loop."
   ]
  },
  {
   "cell_type": "markdown",
   "metadata": {},
   "source": [
    "### Loss Function\n",
    "\n",
    "When presented with some training data, our untrained network is likely not to give the correct answer. Loss function measures the degree of dissimilarity of obtained result to the target value, and it is the loss function that we want to minimize during training. To calculate the loss we make a prediction using the inputs of our given data sample and compare it against the true data label value.\n",
    "\n",
    "Common loss functions include [nn.MSELoss](https://pytorch.org/docs/stable/generated/torch.nn.MSELoss.html#torch.nn.MSELoss) (Mean Square Error) for regression tasks, and [nn.NLLLoss]https://pytorch.org/docs/stable/generated/torch.nn.NLLLoss.html#torch.nn.NLLLoss() (Negative Log Likelihood) for classification. [nn.CrossEntropyLoss](https://pytorch.org/docs/stable/generated/torch.nn.CrossEntropyLoss.html#torch.nn.CrossEntropyLoss) combines nn.LogSoftmax and nn.NLLLoss.\n",
    "\n",
    "We pass our model’s output logits to [nn.CrossEntropyLoss](https://pytorch.org/docs/stable/generated/torch.nn.CrossEntropyLoss.html#torch.nn.CrossEntropyLoss), which will normalize the logits and compute the prediction error."
   ]
  },
  {
   "cell_type": "code",
   "execution_count": 15,
   "metadata": {},
   "outputs": [],
   "source": [
    "# Initialize the loss function\n",
    "loss_fn = nn.CrossEntropyLoss()"
   ]
  },
  {
   "cell_type": "markdown",
   "metadata": {},
   "source": [
    "### Optimizer\n",
    "\n",
    "Optimization is the process of adjusting model parameters to reduce model error in each training step. Optimization algorithms define how this process is performed (in this example we use Stochastic Gradient Descent). All optimization logic is encapsulated in the optimizer object. Here, we use the SGD optimizer; additionally, there are many [different optimizers](https://pytorch.org/docs/stable/optim.html) available in PyTorch such as ADAM and RMSProp, that work better for different kinds of models and data.\n",
    "\n",
    "We initialize the optimizer by registering the model’s parameters that need to be trained, and passing in the learning rate hyperparameter."
   ]
  },
  {
   "cell_type": "code",
   "execution_count": 16,
   "metadata": {},
   "outputs": [],
   "source": [
    "optimizer = torch.optim.SGD(model.parameters(), lr=learning_rate)"
   ]
  },
  {
   "cell_type": "markdown",
   "metadata": {},
   "source": [
    "Inside the training loop, optimization happens in three steps:\n",
    "- Call `optimizer.zero_grad()` to reset the gradients of model parameters. Gradients by default add up; to prevent double-counting, we explicitly zero them at each iteration.\n",
    "- Backpropagate the prediction loss with a call to `loss.backward()`. PyTorch deposits the gradients of the loss w.r.t. each parameter.\n",
    "- Once we have our gradients, we call `optimizer.step()` to adjust the parameters by the gradients collected in the backward pass."
   ]
  },
  {
   "cell_type": "markdown",
   "metadata": {},
   "source": [
    "### Full Implementation\n",
    "We define `train_loop` that loops over our optimization code, and `test_loop` that evaluates the model’s performance against our test data."
   ]
  },
  {
   "cell_type": "code",
   "execution_count": 17,
   "metadata": {},
   "outputs": [],
   "source": [
    "def train_loop(dataloader, model, loss_fn, optimizer):\n",
    "    size = len(dataloader.dataset)\n",
    "    # Set the model to training mode - important for batch normalization and dropout layers\n",
    "    # Unnecessary in this situation but added for best practices\n",
    "    model.train()\n",
    "    for batch, (X, y) in enumerate(dataloader):\n",
    "        # Compute prediction and loss\n",
    "        pred = model(X)\n",
    "        loss = loss_fn(pred, y)\n",
    "\n",
    "        # Backpropagation\n",
    "        loss.backward()\n",
    "        optimizer.step()\n",
    "        optimizer.zero_grad()\n",
    "\n",
    "        if batch % 100 == 0:\n",
    "            loss, current = loss.item(), batch * batch_size + len(X)\n",
    "            print(f\"loss: {loss:>7f}  [{current:>5d}/{size:>5d}]\")\n",
    "\n",
    "\n",
    "def test_loop(dataloader, model, loss_fn):\n",
    "    # Set the model to evaluation mode - important for batch normalization and dropout layers\n",
    "    # Unnecessary in this situation but added for best practices\n",
    "    model.eval()\n",
    "    size = len(dataloader.dataset)\n",
    "    num_batches = len(dataloader)\n",
    "    test_loss, correct = 0, 0\n",
    "\n",
    "    # Evaluating the model with torch.no_grad() ensures that no gradients are computed during test mode\n",
    "    # also serves to reduce unnecessary gradient computations and memory usage for tensors with requires_grad=True\n",
    "    with torch.no_grad():\n",
    "        for X, y in dataloader:\n",
    "            pred = model(X)\n",
    "            test_loss += loss_fn(pred, y).item()\n",
    "            correct += (pred.argmax(1) == y).type(torch.float).sum().item()\n",
    "\n",
    "    test_loss /= num_batches\n",
    "    correct /= size\n",
    "    print(f\"Test Error: \\n Accuracy: {(100*correct):>0.1f}%, Avg loss: {test_loss:>8f} \\n\")"
   ]
  },
  {
   "cell_type": "markdown",
   "metadata": {},
   "source": [
    "We initialize the loss function and optimizer, and pass it to `train_loop` and `test_loop`. Feel free to increase the number of epochs to track the model’s improving performance."
   ]
  },
  {
   "cell_type": "code",
   "execution_count": 18,
   "metadata": {},
   "outputs": [
    {
     "name": "stdout",
     "output_type": "stream",
     "text": [
      "Epoch 1\n",
      "-------------------------------\n",
      "loss: 2.295962  [   64/60000]\n",
      "loss: 2.282136  [ 6464/60000]\n",
      "loss: 2.270119  [12864/60000]\n",
      "loss: 2.273366  [19264/60000]\n",
      "loss: 2.233366  [25664/60000]\n",
      "loss: 2.212416  [32064/60000]\n",
      "loss: 2.230988  [38464/60000]\n",
      "loss: 2.194134  [44864/60000]\n",
      "loss: 2.191300  [51264/60000]\n",
      "loss: 2.152324  [57664/60000]\n",
      "Test Error: \n",
      " Accuracy: 36.7%, Avg loss: 2.152583 \n",
      "\n",
      "Epoch 2\n",
      "-------------------------------\n",
      "loss: 2.159467  [   64/60000]\n",
      "loss: 2.149435  [ 6464/60000]\n",
      "loss: 2.097001  [12864/60000]\n",
      "loss: 2.119460  [19264/60000]\n",
      "loss: 2.053778  [25664/60000]\n",
      "loss: 1.994801  [32064/60000]\n",
      "loss: 2.038753  [38464/60000]\n",
      "loss: 1.952870  [44864/60000]\n",
      "loss: 1.954073  [51264/60000]\n",
      "loss: 1.883232  [57664/60000]\n",
      "Test Error: \n",
      " Accuracy: 53.5%, Avg loss: 1.886194 \n",
      "\n",
      "Epoch 3\n",
      "-------------------------------\n",
      "loss: 1.912979  [   64/60000]\n",
      "loss: 1.884567  [ 6464/60000]\n",
      "loss: 1.769190  [12864/60000]\n",
      "loss: 1.818804  [19264/60000]\n",
      "loss: 1.701671  [25664/60000]\n",
      "loss: 1.645644  [32064/60000]\n",
      "loss: 1.690321  [38464/60000]\n",
      "loss: 1.578692  [44864/60000]\n",
      "loss: 1.601634  [51264/60000]\n",
      "loss: 1.501831  [57664/60000]\n",
      "Test Error: \n",
      " Accuracy: 62.1%, Avg loss: 1.520897 \n",
      "\n",
      "Epoch 4\n",
      "-------------------------------\n",
      "loss: 1.580233  [   64/60000]\n",
      "loss: 1.546401  [ 6464/60000]\n",
      "loss: 1.398190  [12864/60000]\n",
      "loss: 1.478015  [19264/60000]\n",
      "loss: 1.356997  [25664/60000]\n",
      "loss: 1.341876  [32064/60000]\n",
      "loss: 1.379390  [38464/60000]\n",
      "loss: 1.288667  [44864/60000]\n",
      "loss: 1.323753  [51264/60000]\n",
      "loss: 1.229264  [57664/60000]\n",
      "Test Error: \n",
      " Accuracy: 63.9%, Avg loss: 1.254616 \n",
      "\n",
      "Epoch 5\n",
      "-------------------------------\n",
      "loss: 1.327653  [   64/60000]\n",
      "loss: 1.308100  [ 6464/60000]\n",
      "loss: 1.144910  [12864/60000]\n",
      "loss: 1.253538  [19264/60000]\n",
      "loss: 1.130694  [25664/60000]\n",
      "loss: 1.144720  [32064/60000]\n",
      "loss: 1.189195  [38464/60000]\n",
      "loss: 1.107258  [44864/60000]\n",
      "loss: 1.149019  [51264/60000]\n",
      "loss: 1.068663  [57664/60000]\n",
      "Test Error: \n",
      " Accuracy: 64.8%, Avg loss: 1.087756 \n",
      "\n",
      "Epoch 6\n",
      "-------------------------------\n",
      "loss: 1.158073  [   64/60000]\n",
      "loss: 1.156736  [ 6464/60000]\n",
      "loss: 0.976051  [12864/60000]\n",
      "loss: 1.112289  [19264/60000]\n",
      "loss: 0.989206  [25664/60000]\n",
      "loss: 1.011458  [32064/60000]\n",
      "loss: 1.071189  [38464/60000]\n",
      "loss: 0.990798  [44864/60000]\n",
      "loss: 1.034853  [51264/60000]\n",
      "loss: 0.967390  [57664/60000]\n",
      "Test Error: \n",
      " Accuracy: 65.7%, Avg loss: 0.979697 \n",
      "\n",
      "Epoch 7\n",
      "-------------------------------\n",
      "loss: 1.039874  [   64/60000]\n",
      "loss: 1.059135  [ 6464/60000]\n",
      "loss: 0.860018  [12864/60000]\n",
      "loss: 1.017684  [19264/60000]\n",
      "loss: 0.900282  [25664/60000]\n",
      "loss: 0.919157  [32064/60000]\n",
      "loss: 0.994174  [38464/60000]\n",
      "loss: 0.915343  [44864/60000]\n",
      "loss: 0.956483  [51264/60000]\n",
      "loss: 0.900060  [57664/60000]\n",
      "Test Error: \n",
      " Accuracy: 66.8%, Avg loss: 0.906604 \n",
      "\n",
      "Epoch 8\n",
      "-------------------------------\n",
      "loss: 0.953214  [   64/60000]\n",
      "loss: 0.992216  [ 6464/60000]\n",
      "loss: 0.777673  [12864/60000]\n",
      "loss: 0.951154  [19264/60000]\n",
      "loss: 0.841351  [25664/60000]\n",
      "loss: 0.852950  [32064/60000]\n",
      "loss: 0.940346  [38464/60000]\n",
      "loss: 0.865282  [44864/60000]\n",
      "loss: 0.900614  [51264/60000]\n",
      "loss: 0.852019  [57664/60000]\n",
      "Test Error: \n",
      " Accuracy: 68.0%, Avg loss: 0.854579 \n",
      "\n",
      "Epoch 9\n",
      "-------------------------------\n",
      "loss: 0.886862  [   64/60000]\n",
      "loss: 0.942837  [ 6464/60000]\n",
      "loss: 0.716882  [12864/60000]\n",
      "loss: 0.902211  [19264/60000]\n",
      "loss: 0.799641  [25664/60000]\n",
      "loss: 0.804146  [32064/60000]\n",
      "loss: 0.900005  [38464/60000]\n",
      "loss: 0.830895  [44864/60000]\n",
      "loss: 0.859248  [51264/60000]\n",
      "loss: 0.815586  [57664/60000]\n",
      "Test Error: \n",
      " Accuracy: 69.2%, Avg loss: 0.815570 \n",
      "\n",
      "Epoch 10\n",
      "-------------------------------\n",
      "loss: 0.834163  [   64/60000]\n",
      "loss: 0.903555  [ 6464/60000]\n",
      "loss: 0.670359  [12864/60000]\n",
      "loss: 0.864516  [19264/60000]\n",
      "loss: 0.768178  [25664/60000]\n",
      "loss: 0.767006  [32064/60000]\n",
      "loss: 0.867618  [38464/60000]\n",
      "loss: 0.806018  [44864/60000]\n",
      "loss: 0.827273  [51264/60000]\n",
      "loss: 0.786350  [57664/60000]\n",
      "Test Error: \n",
      " Accuracy: 70.5%, Avg loss: 0.784762 \n",
      "\n",
      "Done!\n"
     ]
    }
   ],
   "source": [
    "loss_fn = nn.CrossEntropyLoss()\n",
    "optimizer = torch.optim.SGD(model.parameters(), lr=learning_rate)\n",
    "\n",
    "epochs = 10\n",
    "for t in range(epochs):\n",
    "    print(f\"Epoch {t+1}\\n-------------------------------\")\n",
    "    train_loop(train_dataloader, model, loss_fn, optimizer)\n",
    "    test_loop(test_dataloader, model, loss_fn)\n",
    "print(\"Done!\")"
   ]
  },
  {
   "cell_type": "code",
   "execution_count": 19,
   "metadata": {},
   "outputs": [
    {
     "data": {
      "text/plain": [
       "64"
      ]
     },
     "execution_count": 19,
     "metadata": {},
     "output_type": "execute_result"
    }
   ],
   "source": [
    "train_dataloader.batch_size"
   ]
  },
  {
   "cell_type": "code",
   "execution_count": null,
   "metadata": {},
   "outputs": [],
   "source": []
  }
 ],
 "metadata": {
  "kernelspec": {
   "display_name": ".venv",
   "language": "python",
   "name": "python3"
  },
  "language_info": {
   "codemirror_mode": {
    "name": "ipython",
    "version": 3
   },
   "file_extension": ".py",
   "mimetype": "text/x-python",
   "name": "python",
   "nbconvert_exporter": "python",
   "pygments_lexer": "ipython3",
   "version": "3.12.11"
  }
 },
 "nbformat": 4,
 "nbformat_minor": 2
}
